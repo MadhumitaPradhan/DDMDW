{
  "nbformat": 4,
  "nbformat_minor": 0,
  "metadata": {
    "colab": {
      "name": "Ass1.ipynb",
      "provenance": [],
      "collapsed_sections": [],
      "authorship_tag": "ABX9TyPie/LGcikL2IBspecl8BIV",
      "include_colab_link": true
    },
    "kernelspec": {
      "name": "python3",
      "display_name": "Python 3"
    },
    "language_info": {
      "name": "python"
    }
  },
  "cells": [
    {
      "cell_type": "markdown",
      "metadata": {
        "id": "view-in-github",
        "colab_type": "text"
      },
      "source": [
        "<a href=\"https://colab.research.google.com/github/MadhumitaPradhan/DDMDW/blob/main/Ass1.ipynb\" target=\"_parent\"><img src=\"https://colab.research.google.com/assets/colab-badge.svg\" alt=\"Open In Colab\"/></a>"
      ]
    },
    {
      "cell_type": "markdown",
      "metadata": {
        "id": "A22R5QTEs-Xq"
      },
      "source": [
        "1.First create a list in Python (Ex- [12,35,18,9,56,24]). Next find mean and median of the list without using any built-in/Library Functions.\n",
        "\n"
      ]
    },
    {
      "cell_type": "code",
      "metadata": {
        "colab": {
          "base_uri": "https://localhost:8080/"
        },
        "id": "tg4cTmqts6tS",
        "outputId": "9547a19b-712d-4c7e-e9d9-b000f121f963"
      },
      "source": [
        "lst=[12,35,18,9,56,24]\n",
        "n=len(lst)\n",
        "s=sum(lst)\n",
        "mean=s/n\n",
        "print(\"Mean is:\",mean)\n",
        "lst.sort()\n",
        "if n%2==0:\n",
        "  mid1=lst[n//2]\n",
        "  mid2=lst[n//2-1]\n",
        "  median=(mid1+mid2)/2\n",
        "else:\n",
        "  median=lst[n//2]\n",
        "print(\"Median is:\",median)\n"
      ],
      "execution_count": 1,
      "outputs": [
        {
          "output_type": "stream",
          "name": "stdout",
          "text": [
            "Mean is: 25.666666666666668\n",
            "Median is: 21.0\n"
          ]
        }
      ]
    },
    {
      "cell_type": "markdown",
      "metadata": {
        "id": "V4lkaB6ItdMT"
      },
      "source": [
        "2.First create a list in python (Ex- [2,3,1,1,6,2,1,5]), next find the mode of the list without using any built-in/library functions.¶\n"
      ]
    },
    {
      "cell_type": "code",
      "metadata": {
        "colab": {
          "base_uri": "https://localhost:8080/"
        },
        "id": "p81IVe04tx0W",
        "outputId": "405db97f-b7ad-45cc-a797-4356eb7c6d06"
      },
      "source": [
        "lst1=[2,3,1,1,6,2,1,5]\n",
        "lst1.sort()\n",
        "lst2=[]\n",
        "res=[]\n",
        "for i in lst1:\n",
        "  lst2.append(lst1.count(i))\n",
        "dic=dict(zip(lst1,lst2))\n",
        "for k,v in dic.items():\n",
        "  if v==max(lst2):\n",
        "    res.append(k)\n",
        "print(\"Mode is:\",res)"
      ],
      "execution_count": 2,
      "outputs": [
        {
          "output_type": "stream",
          "name": "stdout",
          "text": [
            "Mode is: [1]\n"
          ]
        }
      ]
    },
    {
      "cell_type": "markdown",
      "metadata": {
        "id": "zRlgJFbHuD5_"
      },
      "source": [
        "3.First create a list in Python (Ex- [12,35,18,9,56,24]). Next find the second smallest number and second highest number in the list.\n",
        "\n"
      ]
    },
    {
      "cell_type": "code",
      "metadata": {
        "colab": {
          "base_uri": "https://localhost:8080/"
        },
        "id": "StlCnQMAuGnJ",
        "outputId": "781b9584-a578-4dfe-e268-e5b121b364d9"
      },
      "source": [
        "lst=[12,35,18,9,56,24]\n",
        "lst.sort()\n",
        "print(\"Second Smallest:\",lst[1])\n",
        "print(\"Second highest:\",lst[-2])\n"
      ],
      "execution_count": 3,
      "outputs": [
        {
          "output_type": "stream",
          "name": "stdout",
          "text": [
            "Second Smallest: 12\n",
            "Second highest: 35\n"
          ]
        }
      ]
    }
  ]
}